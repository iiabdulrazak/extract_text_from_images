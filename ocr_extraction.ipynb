{
  "nbformat": 4,
  "nbformat_minor": 0,
  "metadata": {
    "colab": {
      "name": "ocr_extraction.ipynb",
      "provenance": [],
      "collapsed_sections": []
    },
    "kernelspec": {
      "name": "python3",
      "display_name": "Python 3"
    },
    "language_info": {
      "name": "python"
    },
    "accelerator": "GPU"
  },
  "cells": [
    {
      "cell_type": "code",
      "metadata": {
        "colab": {
          "base_uri": "https://localhost:8080/"
        },
        "id": "85b-dKgW9cHt",
        "outputId": "31282831-0308-4ec9-846d-4efb0f4afef0"
      },
      "source": [
        "!chmod +x isp.sh\n",
        "!./isp.sh"
      ],
      "execution_count": 29,
      "outputs": [
        {
          "output_type": "stream",
          "text": [
            "Requirement already satisfied: anyio==3.3.0 in /usr/local/lib/python3.7/dist-packages (from -r requirements.txt (line 1)) (3.3.0)\n",
            "Requirement already satisfied: argon2-cffi==20.1.0 in /usr/local/lib/python3.7/dist-packages (from -r requirements.txt (line 2)) (20.1.0)\n",
            "Requirement already satisfied: attrs==21.2.0 in /usr/local/lib/python3.7/dist-packages (from -r requirements.txt (line 3)) (21.2.0)\n",
            "Requirement already satisfied: Babel==2.9.1 in /usr/local/lib/python3.7/dist-packages (from -r requirements.txt (line 4)) (2.9.1)\n",
            "Requirement already satisfied: backcall==0.2.0 in /usr/local/lib/python3.7/dist-packages (from -r requirements.txt (line 5)) (0.2.0)\n",
            "Requirement already satisfied: bleach==4.0.0 in /usr/local/lib/python3.7/dist-packages (from -r requirements.txt (line 6)) (4.0.0)\n",
            "Requirement already satisfied: certifi==2021.5.30 in /usr/local/lib/python3.7/dist-packages (from -r requirements.txt (line 7)) (2021.5.30)\n",
            "Requirement already satisfied: cffi==1.14.6 in /usr/local/lib/python3.7/dist-packages (from -r requirements.txt (line 8)) (1.14.6)\n",
            "Requirement already satisfied: charset-normalizer==2.0.4 in /usr/local/lib/python3.7/dist-packages (from -r requirements.txt (line 9)) (2.0.4)\n",
            "Requirement already satisfied: debugpy==1.4.1 in /usr/local/lib/python3.7/dist-packages (from -r requirements.txt (line 10)) (1.4.1)\n",
            "Requirement already satisfied: decorator==5.0.9 in /usr/local/lib/python3.7/dist-packages (from -r requirements.txt (line 11)) (5.0.9)\n",
            "Requirement already satisfied: defusedxml==0.7.1 in /usr/local/lib/python3.7/dist-packages (from -r requirements.txt (line 12)) (0.7.1)\n",
            "Requirement already satisfied: entrypoints==0.3 in /usr/local/lib/python3.7/dist-packages (from -r requirements.txt (line 13)) (0.3)\n",
            "Requirement already satisfied: idna==3.2 in /usr/local/lib/python3.7/dist-packages (from -r requirements.txt (line 14)) (3.2)\n",
            "Requirement already satisfied: ipykernel==6.2.0 in /usr/local/lib/python3.7/dist-packages (from -r requirements.txt (line 15)) (6.2.0)\n",
            "Requirement already satisfied: ipython==7.26.0 in /usr/local/lib/python3.7/dist-packages (from -r requirements.txt (line 16)) (7.26.0)\n",
            "Requirement already satisfied: ipython-genutils==0.2.0 in /usr/local/lib/python3.7/dist-packages (from -r requirements.txt (line 17)) (0.2.0)\n",
            "Requirement already satisfied: jedi==0.18.0 in /usr/local/lib/python3.7/dist-packages (from -r requirements.txt (line 18)) (0.18.0)\n",
            "Requirement already satisfied: Jinja2==3.0.1 in /usr/local/lib/python3.7/dist-packages (from -r requirements.txt (line 19)) (3.0.1)\n",
            "Requirement already satisfied: json5==0.9.6 in /usr/local/lib/python3.7/dist-packages (from -r requirements.txt (line 20)) (0.9.6)\n",
            "Requirement already satisfied: jsonschema==3.2.0 in /usr/local/lib/python3.7/dist-packages (from -r requirements.txt (line 21)) (3.2.0)\n",
            "Requirement already satisfied: jupyter-client==6.1.12 in /usr/local/lib/python3.7/dist-packages (from -r requirements.txt (line 22)) (6.1.12)\n",
            "Requirement already satisfied: jupyter-core==4.7.1 in /usr/local/lib/python3.7/dist-packages (from -r requirements.txt (line 23)) (4.7.1)\n",
            "Requirement already satisfied: jupyter-server==1.10.2 in /usr/local/lib/python3.7/dist-packages (from -r requirements.txt (line 24)) (1.10.2)\n",
            "Requirement already satisfied: jupyterlab==3.1.7 in /usr/local/lib/python3.7/dist-packages (from -r requirements.txt (line 25)) (3.1.7)\n",
            "Requirement already satisfied: jupyterlab-pygments==0.1.2 in /usr/local/lib/python3.7/dist-packages (from -r requirements.txt (line 26)) (0.1.2)\n",
            "Requirement already satisfied: jupyterlab-server==2.7.0 in /usr/local/lib/python3.7/dist-packages (from -r requirements.txt (line 27)) (2.7.0)\n",
            "Requirement already satisfied: MarkupSafe==2.0.1 in /usr/local/lib/python3.7/dist-packages (from -r requirements.txt (line 28)) (2.0.1)\n",
            "Requirement already satisfied: matplotlib-inline==0.1.2 in /usr/local/lib/python3.7/dist-packages (from -r requirements.txt (line 29)) (0.1.2)\n",
            "Requirement already satisfied: mistune==0.8.4 in /usr/local/lib/python3.7/dist-packages (from -r requirements.txt (line 30)) (0.8.4)\n",
            "Requirement already satisfied: nbclassic==0.3.1 in /usr/local/lib/python3.7/dist-packages (from -r requirements.txt (line 31)) (0.3.1)\n",
            "Requirement already satisfied: nbclient==0.5.4 in /usr/local/lib/python3.7/dist-packages (from -r requirements.txt (line 32)) (0.5.4)\n",
            "Requirement already satisfied: nbconvert==6.1.0 in /usr/local/lib/python3.7/dist-packages (from -r requirements.txt (line 33)) (6.1.0)\n",
            "Requirement already satisfied: nbformat==5.1.3 in /usr/local/lib/python3.7/dist-packages (from -r requirements.txt (line 34)) (5.1.3)\n",
            "Requirement already satisfied: nest-asyncio==1.5.1 in /usr/local/lib/python3.7/dist-packages (from -r requirements.txt (line 35)) (1.5.1)\n",
            "Requirement already satisfied: notebook==6.4.3 in /usr/local/lib/python3.7/dist-packages (from -r requirements.txt (line 36)) (6.4.3)\n",
            "Requirement already satisfied: numpy==1.21.2 in /usr/local/lib/python3.7/dist-packages (from -r requirements.txt (line 37)) (1.21.2)\n",
            "Requirement already satisfied: packaging==21.0 in /usr/local/lib/python3.7/dist-packages (from -r requirements.txt (line 38)) (21.0)\n",
            "Requirement already satisfied: pandas==1.3.2 in /usr/local/lib/python3.7/dist-packages (from -r requirements.txt (line 39)) (1.3.2)\n",
            "Requirement already satisfied: pandocfilters==1.4.3 in /usr/local/lib/python3.7/dist-packages (from -r requirements.txt (line 40)) (1.4.3)\n",
            "Requirement already satisfied: parso==0.8.2 in /usr/local/lib/python3.7/dist-packages (from -r requirements.txt (line 41)) (0.8.2)\n",
            "Requirement already satisfied: pexpect==4.8.0 in /usr/local/lib/python3.7/dist-packages (from -r requirements.txt (line 42)) (4.8.0)\n",
            "Requirement already satisfied: pickleshare==0.7.5 in /usr/local/lib/python3.7/dist-packages (from -r requirements.txt (line 43)) (0.7.5)\n",
            "Requirement already satisfied: Pillow==8.3.1 in /usr/local/lib/python3.7/dist-packages (from -r requirements.txt (line 44)) (8.3.1)\n",
            "Requirement already satisfied: prometheus-client==0.11.0 in /usr/local/lib/python3.7/dist-packages (from -r requirements.txt (line 45)) (0.11.0)\n",
            "Requirement already satisfied: prompt-toolkit==3.0.19 in /usr/local/lib/python3.7/dist-packages (from -r requirements.txt (line 46)) (3.0.19)\n",
            "Requirement already satisfied: ptyprocess==0.7.0 in /usr/local/lib/python3.7/dist-packages (from -r requirements.txt (line 47)) (0.7.0)\n",
            "Requirement already satisfied: pycparser==2.20 in /usr/local/lib/python3.7/dist-packages (from -r requirements.txt (line 48)) (2.20)\n",
            "Requirement already satisfied: Pygments==2.10.0 in /usr/local/lib/python3.7/dist-packages (from -r requirements.txt (line 49)) (2.10.0)\n",
            "Requirement already satisfied: pyparsing==2.4.7 in /usr/local/lib/python3.7/dist-packages (from -r requirements.txt (line 50)) (2.4.7)\n",
            "Requirement already satisfied: pyrsistent==0.18.0 in /usr/local/lib/python3.7/dist-packages (from -r requirements.txt (line 51)) (0.18.0)\n",
            "Requirement already satisfied: pytesseract==0.3.8 in /usr/local/lib/python3.7/dist-packages (from -r requirements.txt (line 52)) (0.3.8)\n",
            "Requirement already satisfied: python-dateutil==2.8.2 in /usr/local/lib/python3.7/dist-packages (from -r requirements.txt (line 53)) (2.8.2)\n",
            "Requirement already satisfied: pytz==2021.1 in /usr/local/lib/python3.7/dist-packages (from -r requirements.txt (line 54)) (2021.1)\n",
            "Requirement already satisfied: pyzmq==22.2.1 in /usr/local/lib/python3.7/dist-packages (from -r requirements.txt (line 55)) (22.2.1)\n",
            "Requirement already satisfied: requests==2.26.0 in /usr/local/lib/python3.7/dist-packages (from -r requirements.txt (line 56)) (2.26.0)\n",
            "Requirement already satisfied: requests-unixsocket==0.2.0 in /usr/local/lib/python3.7/dist-packages (from -r requirements.txt (line 57)) (0.2.0)\n",
            "Requirement already satisfied: Send2Trash==1.8.0 in /usr/local/lib/python3.7/dist-packages (from -r requirements.txt (line 58)) (1.8.0)\n",
            "Requirement already satisfied: six==1.16.0 in /usr/local/lib/python3.7/dist-packages (from -r requirements.txt (line 59)) (1.16.0)\n",
            "Requirement already satisfied: sniffio==1.2.0 in /usr/local/lib/python3.7/dist-packages (from -r requirements.txt (line 60)) (1.2.0)\n",
            "Requirement already satisfied: terminado==0.11.0 in /usr/local/lib/python3.7/dist-packages (from -r requirements.txt (line 61)) (0.11.0)\n",
            "Requirement already satisfied: tesseract==0.1.3 in /usr/local/lib/python3.7/dist-packages (from -r requirements.txt (line 62)) (0.1.3)\n",
            "Requirement already satisfied: testpath==0.5.0 in /usr/local/lib/python3.7/dist-packages (from -r requirements.txt (line 63)) (0.5.0)\n",
            "Requirement already satisfied: tornado==6.1 in /usr/local/lib/python3.7/dist-packages (from -r requirements.txt (line 64)) (6.1)\n",
            "Requirement already satisfied: traitlets==5.0.5 in /usr/local/lib/python3.7/dist-packages (from -r requirements.txt (line 65)) (5.0.5)\n",
            "Requirement already satisfied: urllib3==1.26.6 in /usr/local/lib/python3.7/dist-packages (from -r requirements.txt (line 66)) (1.26.6)\n",
            "Requirement already satisfied: wcwidth==0.2.5 in /usr/local/lib/python3.7/dist-packages (from -r requirements.txt (line 67)) (0.2.5)\n",
            "Requirement already satisfied: webencodings==0.5.1 in /usr/local/lib/python3.7/dist-packages (from -r requirements.txt (line 68)) (0.5.1)\n",
            "Requirement already satisfied: websocket-client==1.2.1 in /usr/local/lib/python3.7/dist-packages (from -r requirements.txt (line 69)) (1.2.1)\n",
            "Requirement already satisfied: typing-extensions in /usr/local/lib/python3.7/dist-packages (from anyio==3.3.0->-r requirements.txt (line 1)) (3.7.4.3)\n",
            "Requirement already satisfied: importlib-metadata<5 in /usr/local/lib/python3.7/dist-packages (from ipykernel==6.2.0->-r requirements.txt (line 15)) (4.6.3)\n",
            "Requirement already satisfied: argcomplete>=1.12.3 in /usr/local/lib/python3.7/dist-packages (from ipykernel==6.2.0->-r requirements.txt (line 15)) (1.12.3)\n",
            "Requirement already satisfied: setuptools>=18.5 in /usr/local/lib/python3.7/dist-packages (from ipython==7.26.0->-r requirements.txt (line 16)) (57.4.0)\n",
            "Requirement already satisfied: zipp>=0.5 in /usr/local/lib/python3.7/dist-packages (from importlib-metadata<5->ipykernel==6.2.0->-r requirements.txt (line 15)) (3.5.0)\n",
            "Finished installing requirements ...!\n",
            "Cannot add PPA: 'ppa:~alx-p/ubuntu/tesseract-ocr'.\n",
            "ERROR: '~alx-p' user or team does not exist.\n",
            "Finished installing requirements for tesseract-ocr ...!\n",
            "Ign:1 https://developer.download.nvidia.com/compute/cuda/repos/ubuntu1804/x86_64  InRelease\n",
            "Ign:2 https://developer.download.nvidia.com/compute/machine-learning/repos/ubuntu1804/x86_64  InRelease\n",
            "Hit:3 https://developer.download.nvidia.com/compute/cuda/repos/ubuntu1804/x86_64  Release\n",
            "Hit:4 https://cloud.r-project.org/bin/linux/ubuntu bionic-cran40/ InRelease\n",
            "Hit:5 https://developer.download.nvidia.com/compute/machine-learning/repos/ubuntu1804/x86_64  Release\n",
            "Get:7 http://security.ubuntu.com/ubuntu bionic-security InRelease [88.7 kB]\n",
            "Hit:8 http://archive.ubuntu.com/ubuntu bionic InRelease\n",
            "Hit:9 http://ppa.launchpad.net/c2d4u.team/c2d4u4.0+/ubuntu bionic InRelease\n",
            "Get:11 http://archive.ubuntu.com/ubuntu bionic-updates InRelease [88.7 kB]\n",
            "Hit:12 http://ppa.launchpad.net/cran/libgit2/ubuntu bionic InRelease\n",
            "Hit:13 http://ppa.launchpad.net/deadsnakes/ppa/ubuntu bionic InRelease\n",
            "Get:14 http://archive.ubuntu.com/ubuntu bionic-backports InRelease [74.6 kB]\n",
            "Hit:15 http://ppa.launchpad.net/graphics-drivers/ppa/ubuntu bionic InRelease\n",
            "Fetched 252 kB in 1s (221 kB/s)\n",
            "Reading package lists... Done\n",
            "Finished updating sys!\n",
            "Reading package lists... Done\n",
            "Building dependency tree       \n",
            "Reading state information... Done\n",
            "tesseract-ocr is already the newest version (4.00~git2288-10f4998a-2).\n",
            "The following package was automatically installed and is no longer required:\n",
            "  libnvidia-common-460\n",
            "Use 'sudo apt autoremove' to remove it.\n",
            "0 upgraded, 0 newly installed, 0 to remove and 49 not upgraded.\n",
            "Finished installing tesseract-ocr!\n",
            "Reading package lists... Done\n",
            "Building dependency tree       \n",
            "Reading state information... Done\n",
            "libtesseract-dev is already the newest version (4.00~git2288-10f4998a-2).\n",
            "The following package was automatically installed and is no longer required:\n",
            "  libnvidia-common-460\n",
            "Use 'sudo apt autoremove' to remove it.\n",
            "0 upgraded, 0 newly installed, 0 to remove and 49 not upgraded.\n",
            "Finished installing dev packages for tesseract-ocr\n",
            "Reading package lists... Done\n",
            "Building dependency tree       \n",
            "Reading state information... Done\n",
            "tesseract-ocr-ara is already the newest version (4.00~git24-0e00fe6-1.2).\n",
            "The following package was automatically installed and is no longer required:\n",
            "  libnvidia-common-460\n",
            "Use 'sudo apt autoremove' to remove it.\n",
            "0 upgraded, 0 newly installed, 0 to remove and 49 not upgraded.\n",
            "Finished istalling arabic language package!\n",
            "Reading package lists... Done\n",
            "Building dependency tree       \n",
            "Reading state information... Done\n",
            "The following packages will be REMOVED:\n",
            "  libnvidia-common-460\n",
            "0 upgraded, 0 newly installed, 1 to remove and 49 not upgraded.\n",
            "After this operation, 35.8 kB disk space will be freed.\n",
            "(Reading database ... 148648 files and directories currently installed.)\n",
            "Removing libnvidia-common-460 (460.91.03-0ubuntu1) ...\n",
            "Finished removing!\n"
          ],
          "name": "stdout"
        }
      ]
    },
    {
      "cell_type": "code",
      "metadata": {
        "id": "EL98pWod-Ues"
      },
      "source": [
        "import os\n",
        "import pytesseract\n",
        "import pandas as pd\n",
        "from PIL import Image"
      ],
      "execution_count": 30,
      "outputs": []
    },
    {
      "cell_type": "code",
      "metadata": {
        "id": "tEeGQCMm-6gU"
      },
      "source": [
        "f = []\n",
        "t = []\n",
        "path_dir = r'./img/'"
      ],
      "execution_count": 31,
      "outputs": []
    },
    {
      "cell_type": "code",
      "metadata": {
        "colab": {
          "base_uri": "https://localhost:8080/"
        },
        "id": "DkF02E_T_YuU",
        "outputId": "19d55138-a0a0-4fec-f82d-8adebc2e59ea"
      },
      "source": [
        "for root, dirs, filenames in os.walk(path_dir):\n",
        "  for filename in filenames:\n",
        "    try:\n",
        "      print(filename)\n",
        "      f.append(filename)\n",
        "      #print(f)\n",
        "      img = Image.open(path_dir+ filename)\n",
        "      text = pytesseract.image_to_string(img, lang = 'ara')\n",
        "      t.append(text)\n",
        "      #print(text)\n",
        "      print('-='*20)\n",
        "    except Exception as e:\n",
        "      print(e)"
      ],
      "execution_count": 32,
      "outputs": [
        {
          "output_type": "stream",
          "text": [
            "%25D8%25A7%25D8%25AC%25D9%2585%25D9%-1.jpg\n",
            "-=-=-=-=-=-=-=-=-=-=-=-=-=-=-=-=-=-=-=-=\n",
            "%25D8%25A3%25D9%2588%25D8%25B1%25D8%.jpg\n",
            "-=-=-=-=-=-=-=-=-=-=-=-=-=-=-=-=-=-=-=-=\n",
            "%25D8%25A7%25D8%25AC%25D9%2585%25D9%.jpg\n",
            "-=-=-=-=-=-=-=-=-=-=-=-=-=-=-=-=-=-=-=-=\n",
            "%25D8%25A7%25D8%25AE%25D8%25AA%25D8%.JPG\n",
            "-=-=-=-=-=-=-=-=-=-=-=-=-=-=-=-=-=-=-=-=\n",
            "%25D8%25A3%25D8%25AD%25D9%2583%25D8%.jpg\n",
            "-=-=-=-=-=-=-=-=-=-=-=-=-=-=-=-=-=-=-=-=\n"
          ],
          "name": "stdout"
        }
      ]
    },
    {
      "cell_type": "code",
      "metadata": {
        "id": "8YokbCtl_b2j"
      },
      "source": [
        "df = pd.DataFrame(list(zip(f, t)),columns=['img','text'])\n",
        "df.to_csv('cleaned_text.csv', index=False)"
      ],
      "execution_count": 33,
      "outputs": []
    },
    {
      "cell_type": "code",
      "metadata": {
        "colab": {
          "base_uri": "https://localhost:8080/",
          "height": 204
        },
        "id": "mWMQwolQ_ehY",
        "outputId": "0184c44d-9399-417b-81ab-752b692dddd4"
      },
      "source": [
        "df.head()"
      ],
      "execution_count": 34,
      "outputs": [
        {
          "output_type": "execute_result",
          "data": {
            "text/html": [
              "<div>\n",
              "<style scoped>\n",
              "    .dataframe tbody tr th:only-of-type {\n",
              "        vertical-align: middle;\n",
              "    }\n",
              "\n",
              "    .dataframe tbody tr th {\n",
              "        vertical-align: top;\n",
              "    }\n",
              "\n",
              "    .dataframe thead th {\n",
              "        text-align: right;\n",
              "    }\n",
              "</style>\n",
              "<table border=\"1\" class=\"dataframe\">\n",
              "  <thead>\n",
              "    <tr style=\"text-align: right;\">\n",
              "      <th></th>\n",
              "      <th>img</th>\n",
              "      <th>text</th>\n",
              "    </tr>\n",
              "  </thead>\n",
              "  <tbody>\n",
              "    <tr>\n",
              "      <th>0</th>\n",
              "      <td>%25D8%25A7%25D8%25AC%25D9%2585%25D9%-1.jpg</td>\n",
              "      <td>لَه وفنا إِجَابَةَ لدعا\\n\\nا صل الْأَبتاءِ وَح...</td>\n",
              "    </tr>\n",
              "    <tr>\n",
              "      <th>1</th>\n",
              "      <td>%25D8%25A3%25D9%2588%25D8%25B1%25D8%.jpg</td>\n",
              "      <td>مِنْ أخلاق اللي ضلى الله عَلَيْهِ وَسَلّم\\n\\n ...</td>\n",
              "    </tr>\n",
              "    <tr>\n",
              "      <th>2</th>\n",
              "      <td>%25D8%25A7%25D8%25AC%25D9%2585%25D9%.jpg</td>\n",
              "      <td>الهم 5 3-5-0 بك ظ\\n7\\n\\n    \\n</td>\n",
              "    </tr>\n",
              "    <tr>\n",
              "      <th>3</th>\n",
              "      <td>%25D8%25A7%25D8%25AE%25D8%25AA%25D8%.JPG</td>\n",
              "      <td>اختبارات الفصل الثالث\\nالسنة الأولى ثانوي ج,م,...</td>\n",
              "    </tr>\n",
              "    <tr>\n",
              "      <th>4</th>\n",
              "      <td>%25D8%25A3%25D8%25AD%25D9%2583%25D8%.jpg</td>\n",
              "      <td>كبرهيّ اخمائص أني مب يهني نما إطهانا لنذره ومك...</td>\n",
              "    </tr>\n",
              "  </tbody>\n",
              "</table>\n",
              "</div>"
            ],
            "text/plain": [
              "                                          img                                               text\n",
              "0  %25D8%25A7%25D8%25AC%25D9%2585%25D9%-1.jpg  لَه وفنا إِجَابَةَ لدعا\\n\\nا صل الْأَبتاءِ وَح...\n",
              "1    %25D8%25A3%25D9%2588%25D8%25B1%25D8%.jpg  مِنْ أخلاق اللي ضلى الله عَلَيْهِ وَسَلّم\\n\\n ...\n",
              "2    %25D8%25A7%25D8%25AC%25D9%2585%25D9%.jpg                    الهم 5 3-5-0 بك ظ\\n7\\n\\n    \\n\n",
              "\n",
              "3    %25D8%25A7%25D8%25AE%25D8%25AA%25D8%.JPG  اختبارات الفصل الثالث\\nالسنة الأولى ثانوي ج,م,...\n",
              "4    %25D8%25A3%25D8%25AD%25D9%2583%25D8%.jpg  كبرهيّ اخمائص أني مب يهني نما إطهانا لنذره ومك..."
            ]
          },
          "metadata": {
            "tags": []
          },
          "execution_count": 34
        }
      ]
    },
    {
      "cell_type": "code",
      "metadata": {
        "id": "jWEVGLqx_ggP"
      },
      "source": [
        ""
      ],
      "execution_count": null,
      "outputs": []
    }
  ]
}