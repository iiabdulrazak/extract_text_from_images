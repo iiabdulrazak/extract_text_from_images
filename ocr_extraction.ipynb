{
  "nbformat": 4,
  "nbformat_minor": 0,
  "metadata": {
    "colab": {
      "name": "ocr_extraction.ipynb",
      "provenance": [],
      "collapsed_sections": []
    },
    "kernelspec": {
      "name": "python3",
      "display_name": "Python 3"
    },
    "language_info": {
      "name": "python"
    },
    "accelerator": "GPU"
  },
  "cells": [
    {
      "cell_type": "code",
      "metadata": {
        "id": "85b-dKgW9cHt"
      },
      "source": [
        "!chmod +x isp.sh\n",
        "!./isp.sh"
      ],
      "execution_count": null,
      "outputs": []
    },
    {
      "cell_type": "code",
      "metadata": {
        "id": "EL98pWod-Ues"
      },
      "source": [
        "import os\n",
        "import cv2\n",
        "import pytesseract\n",
        "import pandas as pd\n",
        "from PIL import Image\n",
        "from google.colab.patches import cv2_imshow"
      ],
      "execution_count": 2,
      "outputs": []
    },
    {
      "cell_type": "code",
      "metadata": {
        "id": "NfmbwfxHbDqR"
      },
      "source": [
        "path = r'./img' #source folder\n",
        "dstpath = r'./gray_img' #destination folder"
      ],
      "execution_count": 3,
      "outputs": []
    },
    {
      "cell_type": "code",
      "metadata": {
        "id": "eClZk6Ncba6O"
      },
      "source": [
        "try:\n",
        "  makedirs(dstpath)\n",
        "except:\n",
        "  print(\"Directory already exist, images will be written in same folder!\")"
      ],
      "execution_count": null,
      "outputs": []
    },
    {
      "cell_type": "code",
      "metadata": {
        "id": "WPpK9Vzobo-9"
      },
      "source": [
        "files = os.listdir(path)\n",
        "\n",
        "for image in files:\n",
        "  img = cv2.imread(os.path.join(path,image))\n",
        "  cv2_imshow(img)\n",
        "  print('\\n')\n",
        "  gray = cv2.cvtColor(img, cv2.COLOR_BGR2GRAY)\n",
        "  cv2_imshow(gray)\n",
        "  print('\\n')\n",
        "  cv2.imwrite(os.path.join(dstpath, image),gray)"
      ],
      "execution_count": null,
      "outputs": []
    },
    {
      "cell_type": "code",
      "metadata": {
        "id": "tEeGQCMm-6gU"
      },
      "source": [
        "f = []\n",
        "t = []\n",
        "path_dir = r'./gray_img/'"
      ],
      "execution_count": 37,
      "outputs": []
    },
    {
      "cell_type": "code",
      "metadata": {
        "id": "DkF02E_T_YuU"
      },
      "source": [
        "for root, dirs, filenames in os.walk(path_dir):\n",
        "  for filename in filenames:\n",
        "    try:\n",
        "      print(filename)\n",
        "      f.append(filename)\n",
        "      #print(f)\n",
        "      img = Image.open(path_dir+ filename)\n",
        "      text = pytesseract.image_to_string(img, lang = 'ara')\n",
        "      t.append(text)\n",
        "      #print(text)\n",
        "      print('-='*20)\n",
        "    except Exception as e:\n",
        "      print(e)"
      ],
      "execution_count": null,
      "outputs": []
    },
    {
      "cell_type": "code",
      "metadata": {
        "id": "8YokbCtl_b2j"
      },
      "source": [
        "df = pd.DataFrame(list(zip(f, t)),columns=['img','text'])\n",
        "df.to_csv('cleaned_text.csv', index=False)"
      ],
      "execution_count": 39,
      "outputs": []
    },
    {
      "cell_type": "code",
      "metadata": {
        "id": "mWMQwolQ_ehY"
      },
      "source": [
        "df.head()"
      ],
      "execution_count": null,
      "outputs": []
    },
    {
      "cell_type": "code",
      "metadata": {
        "id": "jWEVGLqx_ggP"
      },
      "source": [
        ""
      ],
      "execution_count": null,
      "outputs": []
    }
  ]
}